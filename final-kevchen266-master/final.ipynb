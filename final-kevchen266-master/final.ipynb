{
 "cells": [
  {
   "cell_type": "markdown",
   "metadata": {},
   "source": [
    "# Final project\n",
    "\n",
    "**Due Friday, December 18.**\n",
    "\n",
    "*Enter your name here*\n",
    "\n",
    "\n",
    "### Checklist\n",
    "\n",
    "Before submitting, make sure that your project\n",
    "\n",
    "- Introduces a computational topic or method  \n",
    "- Provides background: what kind of problem is this meant to solve?  \n",
    "- Explains the topic/method: how does it work (in words and possibly in equations, as appropriate)?  \n",
    "- Provides an example application: if the project is focused on a particular type of problem, where is this problem encountered? If it is focused on a method, in what situations is the method useful?  \n",
    "- Is similar in depth to one of our shorter homework assignments (e.g., homework 2)  \n",
    "\n",
    "For the text description, you should feel free to expand on your midterm mini-project. Note that the final **must** include a worked example in Python. For examples of how to do this, look back to the Jupyter notebooks accompanying each lecture from the course. I'd strongly encourage you to not just plot your results at the end, but also to show intermediate results along the way. Here's a (very in depth!) [example](https://jakevdp.github.io/PythonDataScienceHandbook/05.07-support-vector-machines.html) using [support vector machines](https://en.wikipedia.org/wiki/Support_vector_machine) for classification, to show a different style of organization.\n",
    "\n",
    "And as always, make sure to\n",
    "\n",
    "- Fill in your name above  \n",
    "- Cite any resources that you used while working on this assignment"
   ]
  },
  {
   "cell_type": "markdown",
   "metadata": {},
   "source": [
    "# Electrostatic Field Solution with Finite Difference Method (FDM)\n",
    "\n",
    "## 1. Introduction\n",
    "### 1.a Background\n",
    "In engineering practice, interaction with electromagnetic field has always to be considered in order to predict a technical device's behaviour realistically. Especially in the design of motos, electromagnets, waveguides or antennas, the simulation of  electromagnetic field is regaded as a main and crucial step. Electromagnetic field controls the behaviour of a device following a set of mathematical rules, which is usually with a complicated boudary condition and sometimes of a non-linear nature. With these difficulties, analytical solution is impossible for almost any situations in reality, and thus numerical simulation are commonly used to give a detailed study.\n",
    "\n",
    "Two kinds of methods are used universally for numerical calculation of electromagnetic field: [the finite element method (FEM)](https://en.wikipedia.org/wiki/Finite_element_method) and [finite difference method (FDM)](https://en.wikipedia.org/wiki/Finite_difference_method). FEM and FDM both aim to solve [partial differential equation (PDE)](https://en.wikipedia.org/wiki/Partial_differential_equation), which is Maxwell equation in electromagnetic problem. They both use discretisation method to transform a continuous domain into a discrete domain for calculation. In general, FEM performs more efficient and robust than FDM, thus is widely used not only in electromagnetic design but also in the analysis of mechanical, thermal or other type. Some commercial software based on FEM, like [ANSYS](https://www.ansys.com/), provides with us very convenient tools for simulation today. \n",
    "\n",
    "However, as a very simple and intuitive method, FDM is still of great importance. On the basis of FDM, [A.Taflove (1980)](http://www.ece.northwestern.edu/ecefaculty/taflove/Paper7.pdf) brought [finite difference time domain (FDTD)](https://en.wikipedia.org/wiki/Finite-difference_time-domain_method) method to use, which extend FDM in time-varying fields. FDTD has become an emerging tool for analysis of electromagnetic wave today, such as wireless communication.\n",
    "\n",
    "\n",
    "### 1.b Description of problem\n",
    "Let's start with the static electric field or magnetic field, where the field is not time-varying and the medium is isotropic and lossless. In static field, we can define electric potential $\\Phi$ and scalar magnetic potential $\\Phi_m$ (we should notice that the scalar magnetic potential is not physical but only used for convenience), so the electric field $E$ and magnetic field $H$ could be expressed as:\n",
    "\n",
    "$$\n",
    "E = -\\nabla \\Phi\n",
    "$$\n",
    "$$\n",
    "H = -\\nabla \\Phi_m\n",
    "$$\n",
    "\n",
    "Therefore, as long as we solved the distribution of potantial, we derive the field. The goven equation of electromagnetic field is Maxwell equation, but since we are focused on potential in static field, we prefer Possion's equation (take electric potential for example):\n",
    "\n",
    "$$\n",
    "\\nabla^2 \\Phi = -\\frac{\\rho}{\\epsilon}\n",
    "$$\n",
    "\n",
    "where $\\rho$ is density of charge. In the region of our interests, there are no distributed charge or current since we don't care about the source region. We can get Laplace's equation:\n",
    "\n",
    "$$\n",
    "\\nabla^2 \\Phi = 0\n",
    "$$\n",
    "\n",
    "In two dimensional rectangular coordinates, it becomes:\n",
    "\n",
    "$$\n",
    "\\nabla^{2} \\Phi_{m}=\\frac{\\partial^{2} \\Phi}{\\partial x^{2}}+\\frac{\\partial^{2} \\Phi}{\\partial y^{2}}=0\n",
    "$$\n",
    "\n",
    "Generally, there are three kinds of boudaries in our region to solve:\n",
    "\n",
    "$$\n",
    "\\text{Dirichlet boundary condition:} \\quad\\left.u\\right|_{s}=f_{1}(s)\n",
    "$$\n",
    "$$\n",
    "\\text{Neumann boundary condition:}\\quad \\left.\\frac{\\partial u}{\\partial n}\\right|_{s}=f_{2}(s)\n",
    "$$\n",
    "$$\n",
    "\\text{Robin boundary condition:}\\quad\\frac{\\partial u}{\\partial n}+h(u-f_s)=const\n",
    "$$\n",
    "\n",
    "where $u$ refers to $\\Phi$ or $\\Phi_m$. With the boundary condition, we can get the unique solution of potential. Thus our problem can be expressed as **the boundary value problem of Laplace's equation**. "
   ]
  },
  {
   "attachments": {},
   "cell_type": "markdown",
   "metadata": {},
   "source": [
    "## 2. Algorithms\n",
    "\n",
    "### 2.a Basis of FDM\n",
    "\n",
    "To solve the PDE in a 2-D region, we first divide the region up into a lattice, and then solve for $\\Phi$ at each site of the lattice. FDM provides a method to discrete the PDE into finite differential equation for calculation.\n",
    "<p>\n",
    "<img align=\"center\" src=\"figure1.png\" title=\"discretsation of space\" width=\"200\"/>\n",
    "</p>\n",
    "Suppose the space is divided uniformly with an interval of $h$. From an arbitray site $(x_0,y_0)$ on the lattice (except for boundary), we can get the potential $\\Phi$ for left, right, above and below, namely site $1,2,3,4$ respectively. Here we use Taylor expansions:\n",
    "\n",
    "\n",
    "$$\n",
    "\\left\\{\\begin{array}{l}\n",
    "\\Phi_{1}=\\Phi_{0}+\\left(\\frac{\\partial \\Phi}{\\partial x}\\right)_{0} h+\\frac{1}{2 !}\\left(\\frac{\\partial^{2} \\Phi}{\\partial x^{2}}\\right)_{0} h^{2}+\\frac{1}{3 !}\\left(\\frac{\\partial^{3} \\Phi}{\\partial x^{3}}\\right)_{0} h^{3}+\\cdots \\\\\n",
    "\\Phi_{3}=\\Phi_{0}-\\left(\\frac{\\partial \\Phi}{\\partial x}\\right)_{0} h+\\frac{1}{2 !}\\left(\\frac{\\partial^{2} \\Phi}{\\partial x^{2}}\\right)_{0} h^{2}-\\frac{1}{3 !}\\left(\\frac{\\partial^{3} \\Phi}{\\partial x^{3}}\\right)_{0} h^{3}+\\cdots \\\\\n",
    "\\Phi_{2}=\\Phi_{0}+\\left(\\frac{\\partial \\Phi}{\\partial y}\\right)_{0} h+\\frac{1}{2 !}\\left(\\frac{\\partial^{2} \\Phi}{\\partial y^{2}}\\right)_{0} h^{2}+\\frac{1}{3 !}\\left(\\frac{\\partial^{3} \\Phi}{\\partial y^{3}}\\right)_{0} h^{3}+\\cdots \\\\\n",
    "\\Phi_{4}=\\Phi_{0}-\\left(\\frac{\\partial \\Phi}{\\partial y}\\right)_{0} h+\\frac{1}{2 !}\\left(\\frac{\\partial^{2} \\Phi}{\\partial y^{2}}\\right)_{0} h^{2}+\\frac{1}{4 !}\\left(\\frac{\\partial^{3} \\Phi}{\\partial y^{3}}\\right)_{0} h^{3}+\\cdots\n",
    "\\end{array}\\right.\n",
    "$$\n",
    "\n",
    "When we make a cutoff at the second order, and by adding $\\Phi_1$ and $\\Phi_3$ together, we get:\n",
    "$$\n",
    "\\frac{\\partial^{2} \\Phi}{\\partial x^{2}} = \\frac{1}{h^2}(\\Phi_1+\\Phi_3-2\\Phi_0)\n",
    "$$\n",
    "In the same way, we have:\n",
    "$$\n",
    "\\frac{\\partial^{2} \\Phi}{\\partial y^{2}} = \\frac{1}{h^2}(\\Phi_2+\\Phi_4-2\\Phi_0)\n",
    "$$\n",
    "Using Laplace's equation, we have:\n",
    "$$\n",
    "\\Phi_0 = \\frac{1}{4}(\\Phi_1+\\Phi_2+\\Phi_3+\\Phi_4)\n",
    "$$\n",
    "So far we have derived the finite differential form of Laplace's equation. The interpration is straightforward: the potential at one site is the average of the four nearest neighbors. For numerical solution, we always start with a guess for the potential and repeated calculation many times to converge. If the total number of site in lattice is n (except for boundary), we will have a set of linear equation of n dimension. We choose to use [successive over-relaxation (SOR)](https://en.wikipedia.org/wiki/Successive_over-relaxation) method to solve this linear system since it's generally more efficient than Jaccobi or G-S method. We write the SOR form of FDM:\n",
    "\n",
    "$$\n",
    "\\Phi_{i, j}^{(n+1)}=\\Phi_{i, j}^{(n)}+\\frac{\\alpha}{4}\\left(\\Phi_{i+1, j}^{(n)}+\\Phi_{i, j+1}^{(n)}+\\Phi_{i-1, j}^{(n+1)}+\\Phi_{i, j-1}^{(n+1)}-4 \\Phi_{i, j}^{(n)}\\right)\n",
    "$$\n",
    "\n",
    "where $\\alpha$ is relaxation factor, which will affect the rate of convergence. Only for $1<\\alpha<2$, the calculation will converge. The convergence of SOR is beyond our disscusion so we just put the conclusion here. The optimal relaxation factor for a square mesh with $N\\times N$ sites([Yang and Gobbert, 2009](https://www.sciencedirect.com/science/article/pii/S0893965908001523)) is given by:\n",
    "\n",
    "$$\n",
    "\\alpha_{o p t}=\\frac{2}{1+\\sin \\pi h}\n",
    "$$\n",
    "\n",
    "where $h = \\frac{1}{N-1}$\n",
    "\n",
    "### 2.b Boundary treatment\n",
    "Up to now, we have discussed the calculation inside the region, but have not deal with those sites on the boundary. The condition on the boundary commonly requires a special treatment. For the first kind of boundary (Dirichlet boundary), we simply apply the boundary value, which we has already known:\n",
    "\n",
    "$$\n",
    "\\Phi|_s = \\Phi(s)\n",
    "$$\n",
    "\n",
    "For the second kind of boundary (Neumann boundary) shown as follows:\n",
    "<p>\n",
    "<img align=\"center\" src=\"figure2.png\" title=\"Neumann boundary\" width=\"200\"/>\n",
    "</p>\n",
    "where we see site 1 is outside, site 3 is inside, and site 0,2,4 are on the boundary, we suppose that site 1 has the same potential as site 3, so that the finite differential form is expressed as:\n",
    "$$\n",
    "\\Phi_0 = \\frac{1}{4}(\\Phi_2+2\\Phi_3+\\Phi_4)\n",
    "$$\n",
    "Now we are able to perform our calculation from the boundary and sweep through the region to get the solution."
   ]
  },
  {
   "cell_type": "markdown",
   "metadata": {},
   "source": [
    "## 3. Application\n",
    "### 3.a Example: a slot with charged lid\n",
    "We start with a classic model: a square metal slot with a charged lid. The bottom and side of the slot is connect to ground. The lid is isolated from the slot and maintained on a potential of 10V.\n",
    "\n",
    "<p>\n",
    "<img align=\"center\" src=\"figure3.png\" title=\"a metal slot with a charged lid\" width=\"200\"/>\n",
    "    <br>\n",
    "</p>"
   ]
  },
  {
   "cell_type": "markdown",
   "metadata": {},
   "source": [
    "### 3.b FDM solution\n",
    "To use FDM, we first roughly divide the space into a $5\\times 5$ lattice, process the boundary condition and then perform SOR. For the stopping criteria, we take:\n",
    "\n",
    "$$\n",
    "\\|x^{(k+1)}-x^{(k)}\\|_{\\infty}=\\max _{1 \\leqslant i \\leqslant n}\\left|x^{(k+1)}_{i}-x^{(k)}_{i}\\right| < \\epsilon\n",
    "$$\n",
    "\n",
    "which means we limit the max error, for example under 0.001."
   ]
  },
  {
   "cell_type": "code",
   "execution_count": 1,
   "metadata": {},
   "outputs": [],
   "source": [
    "import numpy as np\n",
    "\n",
    "dim_grid = 5\n",
    "alpha = 2/(1+np.sin(3.1416*(1/(dim_grid-1))))\n",
    "limit = 0.001"
   ]
  },
  {
   "cell_type": "markdown",
   "metadata": {},
   "source": [
    "All of the boundary is the first kind so we directly set the value. Now we can implement the FDM solver according to the SOR form above."
   ]
  },
  {
   "cell_type": "code",
   "execution_count": 2,
   "metadata": {},
   "outputs": [],
   "source": [
    "def fdm_solver(dim_grid, alpha):\n",
    "    \n",
    "    # potential to solve with boudary value\n",
    "    x = np.zeros([dim_grid,dim_grid])\n",
    "    x[:,dim_grid-1]=10\n",
    "    x_old = np.zeros([dim_grid,dim_grid])\n",
    "    \n",
    "    # error\n",
    "    e = np.zeros([dim_grid,dim_grid])\n",
    "    max_e = []\n",
    "    \n",
    "    # SOR\n",
    "    while True:\n",
    "        for i in range(1,dim_grid-1):\n",
    "            for j in range(1,dim_grid-1):\n",
    "                x_old[i,j] = x[i,j]\n",
    "                x[i,j] = x[i,j]+0.25*alpha*(x[i,j+1]+x[i,j-1]+x[i+1,j]+x[i-1,j]-4*x[i,j])\n",
    "                e[i,j] = np.abs(x[i,j]-x_old[i,j])\n",
    "        max_e.append(np.amax(e))\n",
    "\n",
    "        #criteria\n",
    "        if max_e[-1] < limit:\n",
    "            break\n",
    "    return x,max_e"
   ]
  },
  {
   "cell_type": "markdown",
   "metadata": {},
   "source": [
    "Let's use the FDM solver to give a solution and take a look at the residual at each step. "
   ]
  },
  {
   "cell_type": "code",
   "execution_count": 3,
   "metadata": {},
   "outputs": [
    {
     "name": "stdout",
     "output_type": "stream",
     "text": [
      "step: 1  residual: 4.038055116035517\n",
      "step: 2  residual: 1.5811659556965398\n",
      "step: 3  residual: 0.8831172064751924\n",
      "step: 4  residual: 0.4310980985505319\n",
      "step: 5  residual: 0.18200231884847962\n",
      "step: 6  residual: 0.015074853474183803\n",
      "step: 7  residual: 0.006690582240184262\n",
      "step: 8  residual: 0.0011479608627313898\n",
      "step: 9  residual: 0.00020337634808875737\n"
     ]
    }
   ],
   "source": [
    "x,max_e = fdm_solver(dim_grid,alpha)\n",
    "for i in range(len(max_e)):\n",
    "    print(\"step:\",i+1,\" residual:\",max_e[i])"
   ]
  },
  {
   "cell_type": "markdown",
   "metadata": {},
   "source": [
    "The calculation is pretty fast since the dimension we set is small. The solver takes nine step to convergent to the results. However we still want to check if the result is correct. "
   ]
  },
  {
   "cell_type": "code",
   "execution_count": 4,
   "metadata": {},
   "outputs": [
    {
     "data": {
      "image/png": "[encoded data removed]",
      "text/plain": [
       "<Figure size 432x288 with 2 Axes>"
      ]
     },
     "metadata": {
      "needs_background": "light"
     },
     "output_type": "display_data"
    }
   ],
   "source": [
    "from matplotlib import pyplot as plt\n",
    "\n",
    "# plot potential\n",
    "plt.imshow(np.rot90(x)) #rotate to a suitable perspective\n",
    "plt.title('potential solution at N=5')\n",
    "plt.colorbar()\n",
    "plt.show()"
   ]
  },
  {
   "cell_type": "markdown",
   "metadata": {},
   "source": [
    "This results seems reasonable since the potential is high near the lip, and high near the side and bottom. However, the result is not exact enough because N is too small. We will increase the dimension to 100x100 next to give a fine solution."
   ]
  },
  {
   "cell_type": "code",
   "execution_count": 5,
   "metadata": {},
   "outputs": [
    {
     "data": {
      "image/png": "[encoded data removed]",
      "text/plain": [
       "<Figure size 432x288 with 2 Axes>"
      ]
     },
     "metadata": {
      "needs_background": "light"
     },
     "output_type": "display_data"
    }
   ],
   "source": [
    "# solve the field at N=100\n",
    "dim_grid2 = 100\n",
    "alpha2 = 2/(1+np.sin(3.1416*(1/(dim_grid2-1))))\n",
    "x2,max_e2 = fdm_solver(dim_grid2,alpha2)\n",
    "plt.imshow(np.rot90(x2)) #rotate to a suitable perspective\n",
    "plt.title('potential solution at N=100')\n",
    "plt.colorbar()\n",
    "plt.show()"
   ]
  },
  {
   "cell_type": "markdown",
   "metadata": {},
   "source": [
    "### 3.c The influece of relaxation factor\n",
    "Since SOR is the most commonly used method in FDM, we indeed want to investigate how the relaxation factor influence the convergence situation. First, with different dimension of mesh, the optimal relaxation factor is different:"
   ]
  },
  {
   "cell_type": "code",
   "execution_count": 6,
   "metadata": {},
   "outputs": [
    {
     "name": "stdout",
     "output_type": "stream",
     "text": [
      "relaxation factor with N=5: 1.1715719839862961\n",
      "relaxation factor with N=100: 1.9384954029916845\n"
     ]
    }
   ],
   "source": [
    "print(\"relaxation factor with N=5:\",alpha)\n",
    "print(\"relaxation factor with N=100:\",alpha2)"
   ]
  },
  {
   "cell_type": "markdown",
   "metadata": {},
   "source": [
    "Therefore, we will scan the relaxation factor from 1 to 2 to see the influence on converging rate. Take N = 5 for example."
   ]
  },
  {
   "cell_type": "code",
   "execution_count": 7,
   "metadata": {},
   "outputs": [
    {
     "name": "stdout",
     "output_type": "stream",
     "text": [
      "optimal alpha for N=5 in practice: 1.17\n"
     ]
    },
    {
     "data": {
      "image/png": "[encoded data removed]",
      "text/plain": [
       "<Figure size 432x288 with 1 Axes>"
      ]
     },
     "metadata": {
      "needs_background": "light"
     },
     "output_type": "display_data"
    }
   ],
   "source": [
    "total_step = []\n",
    "for i in range(1,100):\n",
    "    _,max_e = fdm_solver(dim_grid,1+0.01*i)\n",
    "    total_step.append(len(max_e))\n",
    "print(\"optimal alpha for N=5 in practice:\",1+0.01*np.argmin(total_step))\n",
    "plt.plot(1+0.01*np.arange(1,100),total_step)\n",
    "plt.xlabel('alpha')\n",
    "plt.ylabel('total step')\n",
    "plt.title('total step need for different alpha')\n",
    "plt.show()"
   ]
  },
  {
   "cell_type": "markdown",
   "metadata": {},
   "source": [
    "It's obvious that when $\\alpha$ is getting bigger, the convegence situation is getting worse. When $\\alpha$ exceed 2, the algorithm could be regarded as divergent. Besides, we can see the optimal $\\alpha$ in practice is in correspond with our calculation.\n",
    "\n",
    "Then, we would like to give a fixed alpha, and have a look at the variation of residual in each step. Here we take $alpha$ to be 1.1, 1.5, 1.9 respectively. For this purpose, we should modify the FDM solver for a fixed total number of iteration."
   ]
  },
  {
   "cell_type": "code",
   "execution_count": 8,
   "metadata": {},
   "outputs": [
    {
     "data": {
      "image/png": "[encoded data removed]",
      "text/plain": [
       "<Figure size 432x288 with 1 Axes>"
      ]
     },
     "metadata": {
      "needs_background": "light"
     },
     "output_type": "display_data"
    }
   ],
   "source": [
    "def fdm_solver_fixed_step(dim_grid, it, alpha):\n",
    "    \n",
    "    # potential to solve with boudary value\n",
    "    x = np.zeros([dim_grid,dim_grid])\n",
    "    x[:,dim_grid-1]=10\n",
    "    x_old = np.zeros([dim_grid,dim_grid])\n",
    "    \n",
    "    # error\n",
    "    e = np.zeros([dim_grid,dim_grid])\n",
    "    max_e = []\n",
    "    \n",
    "    # SOR\n",
    "    for k in range(it):\n",
    "        for i in range(1,dim_grid-1):\n",
    "            for j in range(1,dim_grid-1):\n",
    "                x_old[i,j] = x[i,j]\n",
    "                x[i,j] = x[i,j]+0.25*alpha*(x[i,j+1]+x[i,j-1]+x[i+1,j]+x[i-1,j]-4*x[i,j])\n",
    "                e[i,j] = np.abs(x[i,j]-x_old[i,j])\n",
    "        max_e.append(np.amax(e))\n",
    "    return max_e\n",
    "\n",
    "# total iteration number\n",
    "it = 50\n",
    "\n",
    "e1 = fdm_solver_fixed_step(dim_grid,it,1.1)\n",
    "e2 = fdm_solver_fixed_step(dim_grid,it,1.5)\n",
    "e3 = fdm_solver_fixed_step(dim_grid,it,1.9)\n",
    "\n",
    "#plot \n",
    "plt.plot(list(range(it)),e1[:it],'r',label='alpha = 1.1')\n",
    "plt.plot(list(range(it)),e2[:it],'g',label='alpha = 1.5')\n",
    "plt.plot(list(range(it)),e3[:it],'b',label='alpha = 1.9')\n",
    "plt.xlabel('step')\n",
    "plt.ylabel('residual')\n",
    "plt.title('convergence situation with different alpha')\n",
    "plt.legend()\n",
    "plt.show()"
   ]
  },
  {
   "cell_type": "markdown",
   "metadata": {},
   "source": [
    "From this result, we can clearly see that for an inappropriate $\\alpha$, not only the converging rate is slow, but also the residual will oscillate, which gives a bad performance of FDM. "
   ]
  },
  {
   "cell_type": "markdown",
   "metadata": {},
   "source": [
    "## Summary\n",
    "FDM, serving as a numerical method for PDE solution, is of great use in solving electrostatic field or magnetostatic field. The main step of FDM can be concluded as:\n",
    "- discrete the region of interests\n",
    "- derive the finite-differential form of target PDE, with also boundary condition\n",
    "- solve using SOR\n",
    "\n",
    "The choice of relaxation factor has a great influence on the convergence situation of the algorithm. Usually with complicated boundary, we can only choose the relaxation factor empirically. Therefore, FDM is not a very robust algorithm. In contrast, FEM is much more complex but without the dependence of relaxation factor, thus more widely used."
   ]
  }
 ],
 "metadata": {
  "kernelspec": {
   "display_name": "Python 3",
   "language": "python",
   "name": "python3"
  },
  "language_info": {
   "codemirror_mode": {
    "name": "ipython",
    "version": 3
   },
   "file_extension": ".py",
   "mimetype": "text/x-python",
   "name": "python",
   "nbconvert_exporter": "python",
   "pygments_lexer": "ipython3",
   "version": "3.8.3"
  },
  "toc": {
   "base_numbering": 1,
   "nav_menu": {},
   "number_sections": true,
   "sideBar": true,
   "skip_h1_title": false,
   "title_cell": "Table of Contents",
   "title_sidebar": "Contents",
   "toc_cell": false,
   "toc_position": {},
   "toc_section_display": true,
   "toc_window_display": false
  }
 },
 "nbformat": 4,
 "nbformat_minor": 2
}
